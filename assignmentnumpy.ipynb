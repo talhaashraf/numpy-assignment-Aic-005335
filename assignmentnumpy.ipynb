{
 "cells": [
  {
   "cell_type": "code",
   "execution_count": 1,
   "metadata": {},
   "outputs": [
    {
     "name": "stdout",
     "output_type": "stream",
     "text": [
      "Q 7 8.PNG\n",
      "Q1 2 (1).PNG\n",
      "Q1 2 (2).PNG\n",
      "Q1 2.PNG\n",
      "Q10 (1).PNG\n",
      "Q10.PNG\n",
      "Q3 4 5.PNG\n",
      "Q3 4.PNG\n",
      "Q3.PNG\n",
      "Q4 5.PNG\n",
      "Q5 6.PNG\n",
      "Q6 7.PNG\n",
      "Q8 9 (1).PNG\n",
      "Q8 9.PNG\n",
      "Q9 10.PNG\n"
     ]
    }
   ],
   "source": [
    "import numpy as np\n",
    "from PIL import Image\n",
    "import os\n",
    "x=np.zeros([20,200,200,3])\n",
    "size_200= (200,200,3)\n",
    "for f in os.listdir('.'):\n",
    "    if f.endswith('.PNG') or f.endswith('.jpg') or f.endswith('.JPEG'): #any image of any extension will convert in the next steps\n",
    "        i=Image.open(f)\n",
    "        fn,fext =os.path.splitext(f)\n",
    "        i.save('pngs/{}.png'.format(fn))   #All he images are saved with an extension of .png(alterable)\n",
    "        z=i.thumbnail(size_200)              #All the images are resized to 200 \n",
    "        i.save('200/{}_200{}'.format(fn,fext))\n",
    "        x=fn+fext\n",
    "        print(x)"
   ]
  }
 ],
 "metadata": {
  "kernelspec": {
   "display_name": "Python 3",
   "language": "python",
   "name": "python3"
  },
  "language_info": {
   "codemirror_mode": {
    "name": "ipython",
    "version": 3
   },
   "file_extension": ".py",
   "mimetype": "text/x-python",
   "name": "python",
   "nbconvert_exporter": "python",
   "pygments_lexer": "ipython3",
   "version": "3.7.3"
  }
 },
 "nbformat": 4,
 "nbformat_minor": 2
}
