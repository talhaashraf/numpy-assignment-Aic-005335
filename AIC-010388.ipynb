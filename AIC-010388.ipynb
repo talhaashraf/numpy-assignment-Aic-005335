{
 "cells": [
  {
   "cell_type": "code",
   "execution_count": 2,
   "metadata": {},
   "outputs": [],
   "source": [
    "import numpy as np\n",
    "from PIL import Image\n",
    "import os\n",
    "array=np.zeros([20,200,200,3])\n",
    "size= (200,200,3)\n",
    "for f in os.listdir('.'):\n",
    "    if f.endswith('.PNG'): #any image of any extension will convert in the next steps\n",
    "        i=Image.open(f)\n",
    "        fn,fext =os.path.splitext(f)\n",
    "        i.save('pngs/{}.png'.format(fn))   #All he images are saved with an extension of .png(alterable)\n",
    "        z=i.thumbnail(size)              #All the images are resized to 200 \n",
    "        i.save('200/{}_200{}'.format(fn,fext))\n",
    "        array=fn+fext\n",
    "        print(array)"
   ]
  }
 ],
 "metadata": {
  "kernelspec": {
   "display_name": "Python 3",
   "language": "python",
   "name": "python3"
  },
  "language_info": {
   "codemirror_mode": {
    "name": "ipython",
    "version": 3
   },
   "file_extension": ".py",
   "mimetype": "text/x-python",
   "name": "python",
   "nbconvert_exporter": "python",
   "pygments_lexer": "ipython3",
   "version": "3.7.3"
  }
 },
 "nbformat": 4,
 "nbformat_minor": 2
}
